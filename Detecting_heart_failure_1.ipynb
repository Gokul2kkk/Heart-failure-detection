{
  "nbformat": 4,
  "nbformat_minor": 0,
  "metadata": {
    "colab": {
      "name": "Detecting heart failure 1.ipynb",
      "provenance": [],
      "collapsed_sections": [],
      "toc_visible": true
    },
    "kernelspec": {
      "name": "python3",
      "display_name": "Python 3"
    }
  },
  "cells": [
    {
      "cell_type": "code",
      "metadata": {
        "id": "sR78AvNxq_Go"
      },
      "source": [
        "import numpy\n",
        "import pandas as pd\n",
        "from sklearn.feature_selection import SelectKBest\n",
        "from sklearn.feature_selection import chi2"
      ],
      "execution_count": null,
      "outputs": []
    },
    {
      "cell_type": "markdown",
      "metadata": {
        "id": "z7I0mtLc664-"
      },
      "source": [
        "## Data preprocessing"
      ]
    },
    {
      "cell_type": "code",
      "metadata": {
        "id": "eqjSi5sor9cs",
        "colab": {
          "base_uri": "https://localhost:8080/",
          "height": 437
        },
        "outputId": "a7bff2b6-58f0-4894-ff16-574158d5bec7"
      },
      "source": [
        "data = pd.read_csv(\"datasets_727551_1263738_heart_failure_clinical_records_dataset.csv\")\n",
        "#data.drop(columns=['time'],axis=1,inplace=True)\n",
        "X = data.iloc[:,:-1]  #independent columns\n",
        "y = data.iloc[:,-1]\n",
        "X,y"
      ],
      "execution_count": null,
      "outputs": [
        {
          "output_type": "execute_result",
          "data": {
            "text/plain": [
              "(      age  anaemia  creatinine_phosphokinase  ...  sex  smoking  time\n",
              " 0    75.0        0                       582  ...    1        0     4\n",
              " 1    55.0        0                      7861  ...    1        0     6\n",
              " 2    65.0        0                       146  ...    1        1     7\n",
              " 3    50.0        1                       111  ...    1        0     7\n",
              " 4    65.0        1                       160  ...    0        0     8\n",
              " ..    ...      ...                       ...  ...  ...      ...   ...\n",
              " 294  62.0        0                        61  ...    1        1   270\n",
              " 295  55.0        0                      1820  ...    0        0   271\n",
              " 296  45.0        0                      2060  ...    0        0   278\n",
              " 297  45.0        0                      2413  ...    1        1   280\n",
              " 298  50.0        0                       196  ...    1        1   285\n",
              " \n",
              " [299 rows x 12 columns], 0      1\n",
              " 1      1\n",
              " 2      1\n",
              " 3      1\n",
              " 4      1\n",
              "       ..\n",
              " 294    0\n",
              " 295    0\n",
              " 296    0\n",
              " 297    0\n",
              " 298    0\n",
              " Name: DEATH_EVENT, Length: 299, dtype: int64)"
            ]
          },
          "metadata": {
            "tags": []
          },
          "execution_count": 2
        }
      ]
    },
    {
      "cell_type": "markdown",
      "metadata": {
        "id": "1DcTQhx-6_gu"
      },
      "source": [
        "# Train test split"
      ]
    },
    {
      "cell_type": "code",
      "metadata": {
        "id": "9vcNxrlkw3sy"
      },
      "source": [
        "from sklearn.model_selection import train_test_split\n",
        "x_train,x_test,y_train,y_test = train_test_split(X,y,test_size=0.2)"
      ],
      "execution_count": null,
      "outputs": []
    },
    {
      "cell_type": "code",
      "metadata": {
        "id": "SQGvDdrQw9ZR",
        "colab": {
          "base_uri": "https://localhost:8080/",
          "height": 422
        },
        "outputId": "4acfdc60-69b5-4740-a46f-3c59ddb3dbf9"
      },
      "source": [
        "x_train"
      ],
      "execution_count": null,
      "outputs": [
        {
          "output_type": "execute_result",
          "data": {
            "text/html": [
              "<div>\n",
              "<style scoped>\n",
              "    .dataframe tbody tr th:only-of-type {\n",
              "        vertical-align: middle;\n",
              "    }\n",
              "\n",
              "    .dataframe tbody tr th {\n",
              "        vertical-align: top;\n",
              "    }\n",
              "\n",
              "    .dataframe thead th {\n",
              "        text-align: right;\n",
              "    }\n",
              "</style>\n",
              "<table border=\"1\" class=\"dataframe\">\n",
              "  <thead>\n",
              "    <tr style=\"text-align: right;\">\n",
              "      <th></th>\n",
              "      <th>age</th>\n",
              "      <th>anaemia</th>\n",
              "      <th>creatinine_phosphokinase</th>\n",
              "      <th>diabetes</th>\n",
              "      <th>ejection_fraction</th>\n",
              "      <th>high_blood_pressure</th>\n",
              "      <th>platelets</th>\n",
              "      <th>serum_creatinine</th>\n",
              "      <th>serum_sodium</th>\n",
              "      <th>sex</th>\n",
              "      <th>smoking</th>\n",
              "      <th>time</th>\n",
              "    </tr>\n",
              "  </thead>\n",
              "  <tbody>\n",
              "    <tr>\n",
              "      <th>257</th>\n",
              "      <td>58.0</td>\n",
              "      <td>0</td>\n",
              "      <td>132</td>\n",
              "      <td>1</td>\n",
              "      <td>38</td>\n",
              "      <td>1</td>\n",
              "      <td>253000.0</td>\n",
              "      <td>1.0</td>\n",
              "      <td>139</td>\n",
              "      <td>1</td>\n",
              "      <td>0</td>\n",
              "      <td>230</td>\n",
              "    </tr>\n",
              "    <tr>\n",
              "      <th>281</th>\n",
              "      <td>70.0</td>\n",
              "      <td>0</td>\n",
              "      <td>582</td>\n",
              "      <td>0</td>\n",
              "      <td>40</td>\n",
              "      <td>0</td>\n",
              "      <td>51000.0</td>\n",
              "      <td>2.7</td>\n",
              "      <td>136</td>\n",
              "      <td>1</td>\n",
              "      <td>1</td>\n",
              "      <td>250</td>\n",
              "    </tr>\n",
              "    <tr>\n",
              "      <th>249</th>\n",
              "      <td>53.0</td>\n",
              "      <td>0</td>\n",
              "      <td>207</td>\n",
              "      <td>1</td>\n",
              "      <td>40</td>\n",
              "      <td>0</td>\n",
              "      <td>223000.0</td>\n",
              "      <td>1.2</td>\n",
              "      <td>130</td>\n",
              "      <td>0</td>\n",
              "      <td>0</td>\n",
              "      <td>214</td>\n",
              "    </tr>\n",
              "    <tr>\n",
              "      <th>279</th>\n",
              "      <td>55.0</td>\n",
              "      <td>0</td>\n",
              "      <td>84</td>\n",
              "      <td>1</td>\n",
              "      <td>38</td>\n",
              "      <td>0</td>\n",
              "      <td>451000.0</td>\n",
              "      <td>1.3</td>\n",
              "      <td>136</td>\n",
              "      <td>0</td>\n",
              "      <td>0</td>\n",
              "      <td>246</td>\n",
              "    </tr>\n",
              "    <tr>\n",
              "      <th>43</th>\n",
              "      <td>72.0</td>\n",
              "      <td>0</td>\n",
              "      <td>127</td>\n",
              "      <td>1</td>\n",
              "      <td>50</td>\n",
              "      <td>1</td>\n",
              "      <td>218000.0</td>\n",
              "      <td>1.0</td>\n",
              "      <td>134</td>\n",
              "      <td>1</td>\n",
              "      <td>0</td>\n",
              "      <td>33</td>\n",
              "    </tr>\n",
              "    <tr>\n",
              "      <th>...</th>\n",
              "      <td>...</td>\n",
              "      <td>...</td>\n",
              "      <td>...</td>\n",
              "      <td>...</td>\n",
              "      <td>...</td>\n",
              "      <td>...</td>\n",
              "      <td>...</td>\n",
              "      <td>...</td>\n",
              "      <td>...</td>\n",
              "      <td>...</td>\n",
              "      <td>...</td>\n",
              "      <td>...</td>\n",
              "    </tr>\n",
              "    <tr>\n",
              "      <th>73</th>\n",
              "      <td>65.0</td>\n",
              "      <td>0</td>\n",
              "      <td>224</td>\n",
              "      <td>1</td>\n",
              "      <td>50</td>\n",
              "      <td>0</td>\n",
              "      <td>149000.0</td>\n",
              "      <td>1.3</td>\n",
              "      <td>137</td>\n",
              "      <td>1</td>\n",
              "      <td>1</td>\n",
              "      <td>72</td>\n",
              "    </tr>\n",
              "    <tr>\n",
              "      <th>116</th>\n",
              "      <td>60.0</td>\n",
              "      <td>1</td>\n",
              "      <td>96</td>\n",
              "      <td>1</td>\n",
              "      <td>60</td>\n",
              "      <td>1</td>\n",
              "      <td>271000.0</td>\n",
              "      <td>0.7</td>\n",
              "      <td>136</td>\n",
              "      <td>0</td>\n",
              "      <td>0</td>\n",
              "      <td>94</td>\n",
              "    </tr>\n",
              "    <tr>\n",
              "      <th>143</th>\n",
              "      <td>61.0</td>\n",
              "      <td>1</td>\n",
              "      <td>84</td>\n",
              "      <td>0</td>\n",
              "      <td>40</td>\n",
              "      <td>1</td>\n",
              "      <td>229000.0</td>\n",
              "      <td>0.9</td>\n",
              "      <td>141</td>\n",
              "      <td>0</td>\n",
              "      <td>0</td>\n",
              "      <td>110</td>\n",
              "    </tr>\n",
              "    <tr>\n",
              "      <th>246</th>\n",
              "      <td>55.0</td>\n",
              "      <td>0</td>\n",
              "      <td>2017</td>\n",
              "      <td>0</td>\n",
              "      <td>25</td>\n",
              "      <td>0</td>\n",
              "      <td>314000.0</td>\n",
              "      <td>1.1</td>\n",
              "      <td>138</td>\n",
              "      <td>1</td>\n",
              "      <td>0</td>\n",
              "      <td>214</td>\n",
              "    </tr>\n",
              "    <tr>\n",
              "      <th>74</th>\n",
              "      <td>69.0</td>\n",
              "      <td>0</td>\n",
              "      <td>582</td>\n",
              "      <td>0</td>\n",
              "      <td>20</td>\n",
              "      <td>0</td>\n",
              "      <td>266000.0</td>\n",
              "      <td>1.2</td>\n",
              "      <td>134</td>\n",
              "      <td>1</td>\n",
              "      <td>1</td>\n",
              "      <td>73</td>\n",
              "    </tr>\n",
              "  </tbody>\n",
              "</table>\n",
              "<p>239 rows × 12 columns</p>\n",
              "</div>"
            ],
            "text/plain": [
              "      age  anaemia  creatinine_phosphokinase  ...  sex  smoking  time\n",
              "257  58.0        0                       132  ...    1        0   230\n",
              "281  70.0        0                       582  ...    1        1   250\n",
              "249  53.0        0                       207  ...    0        0   214\n",
              "279  55.0        0                        84  ...    0        0   246\n",
              "43   72.0        0                       127  ...    1        0    33\n",
              "..    ...      ...                       ...  ...  ...      ...   ...\n",
              "73   65.0        0                       224  ...    1        1    72\n",
              "116  60.0        1                        96  ...    0        0    94\n",
              "143  61.0        1                        84  ...    0        0   110\n",
              "246  55.0        0                      2017  ...    1        0   214\n",
              "74   69.0        0                       582  ...    1        1    73\n",
              "\n",
              "[239 rows x 12 columns]"
            ]
          },
          "metadata": {
            "tags": []
          },
          "execution_count": 4
        }
      ]
    },
    {
      "cell_type": "markdown",
      "metadata": {
        "id": "UPLchsVCwGIG"
      },
      "source": [
        "# Feature scaling"
      ]
    },
    {
      "cell_type": "code",
      "metadata": {
        "id": "qeuIfkhWwFri"
      },
      "source": [
        "from sklearn.preprocessing import StandardScaler"
      ],
      "execution_count": null,
      "outputs": []
    },
    {
      "cell_type": "code",
      "metadata": {
        "id": "Bom09qLCwgQb"
      },
      "source": [
        "sc=StandardScaler()\n",
        "x_train=sc.fit_transform(x_train)\n",
        "\n",
        "x_test=sc.transform(x_test)"
      ],
      "execution_count": null,
      "outputs": []
    },
    {
      "cell_type": "code",
      "metadata": {
        "id": "uD18Gzz7z2Uq"
      },
      "source": [
        "x_train1=x_train+6 #removing all the negatives in the dataset"
      ],
      "execution_count": null,
      "outputs": []
    },
    {
      "cell_type": "code",
      "metadata": {
        "id": "vRra4m7TyUqo",
        "colab": {
          "base_uri": "https://localhost:8080/",
          "height": 235
        },
        "outputId": "313df112-7ac6-4aeb-ccd9-60f4f65680ee"
      },
      "source": [
        "#x_train+=5\n",
        "x_train1"
      ],
      "execution_count": null,
      "outputs": [
        {
          "output_type": "execute_result",
          "data": {
            "text/plain": [
              "array([[5.74095356, 5.13714106, 5.54455835, ..., 6.7093269 , 5.3368567 ,\n",
              "        7.26622297],\n",
              "       [6.76806577, 5.13714106, 6.00379602, ..., 6.7093269 , 7.5079697 ,\n",
              "        7.52513326],\n",
              "       [5.31299015, 5.13714106, 5.62109796, ..., 4.59021278, 5.3368567 ,\n",
              "        7.05909474],\n",
              "       ...,\n",
              "       [5.99773161, 7.15893799, 5.49557299, ..., 4.59021278, 5.3368567 ,\n",
              "        5.71276124],\n",
              "       [5.48417551, 5.13714106, 7.46825395, ..., 6.7093269 , 5.3368567 ,\n",
              "        7.05909474],\n",
              "       [6.68247308, 5.13714106, 6.00379602, ..., 6.7093269 , 7.5079697 ,\n",
              "        5.23377721]])"
            ]
          },
          "metadata": {
            "tags": []
          },
          "execution_count": 8
        }
      ]
    },
    {
      "cell_type": "markdown",
      "metadata": {
        "id": "4UzRxsbhvc8b"
      },
      "source": [
        "# Feature selection"
      ]
    },
    {
      "cell_type": "markdown",
      "metadata": {
        "id": "4G1OLNpwkZC3"
      },
      "source": [
        "For feature selection, we have used a combination of recursive feature elemination and the chi2 methods. First we have used chi2 values to determine the importance values for each features and then we started eliminating the least important features one by one until we get the highest accuracy."
      ]
    },
    {
      "cell_type": "markdown",
      "metadata": {
        "id": "lgDPoCRvk4Ar"
      },
      "source": [
        "## Chi2 test"
      ]
    },
    {
      "cell_type": "code",
      "metadata": {
        "id": "yygmKhQPHWBF"
      },
      "source": [
        "bestfeatures = SelectKBest(score_func=chi2, k=10)\n",
        "fit = bestfeatures.fit(x_train1,y_train)"
      ],
      "execution_count": null,
      "outputs": []
    },
    {
      "cell_type": "code",
      "metadata": {
        "id": "kun382JsunBr"
      },
      "source": [
        "dfscores = pd.DataFrame(fit.scores_)\n",
        "dfcolumns = pd.DataFrame(X.columns)"
      ],
      "execution_count": null,
      "outputs": []
    },
    {
      "cell_type": "code",
      "metadata": {
        "id": "BUSgyCkSupuI"
      },
      "source": [
        "featureScores = pd.concat([dfcolumns,dfscores],axis=1)\n",
        "featureScores.columns = ['Specs','Score']  #naming the dataframe columns\n",
        "featureScores.sort_values(by='Score',ascending=False,inplace=True)\n",
        "featureScores"
      ],
      "execution_count": null,
      "outputs": []
    },
    {
      "cell_type": "code",
      "metadata": {
        "id": "8q3P0cc8GXoz"
      },
      "source": [
        "import numpy as np\n",
        "feat_order=np.array(featureScores.iloc[:,0])\n",
        "feat_order"
      ],
      "execution_count": null,
      "outputs": []
    },
    {
      "cell_type": "markdown",
      "metadata": {
        "id": "dtAP6vXbG6iR"
      },
      "source": [
        "## Recursive feature elimination "
      ]
    },
    {
      "cell_type": "code",
      "metadata": {
        "id": "4nIuOfij124F"
      },
      "source": [
        "from sklearn.model_selection import train_test_split\n",
        "x_train,x_test,y_train,y_test = train_test_split(X,y,test_size=0.2,random_state=49)\n"
      ],
      "execution_count": null,
      "outputs": []
    },
    {
      "cell_type": "markdown",
      "metadata": {
        "id": "-vp8JHVGlYo2"
      },
      "source": [
        "Converting all the train and test data into dataframes for easier handling of data:"
      ]
    },
    {
      "cell_type": "code",
      "metadata": {
        "id": "bmgdmkGZRKFo"
      },
      "source": [
        "from sklearn.preprocessing import StandardScaler\n",
        "sc=StandardScaler()\n",
        "x_train=pd.DataFrame(sc.fit_transform(x_train)) \n",
        "x_test=pd.DataFrame(sc.transform(x_test))\n",
        "y_train=pd.DataFrame(y_train)\n",
        "y_test=pd.DataFrame(y_test)"
      ],
      "execution_count": null,
      "outputs": []
    },
    {
      "cell_type": "code",
      "metadata": {
        "id": "i-47GYbume2N",
        "colab": {
          "base_uri": "https://localhost:8080/",
          "height": 402
        },
        "outputId": "f80dfe9f-89db-47ff-8667-ac13ed673232"
      },
      "source": [
        "x_train"
      ],
      "execution_count": null,
      "outputs": [
        {
          "output_type": "execute_result",
          "data": {
            "text/html": [
              "<div>\n",
              "<style scoped>\n",
              "    .dataframe tbody tr th:only-of-type {\n",
              "        vertical-align: middle;\n",
              "    }\n",
              "\n",
              "    .dataframe tbody tr th {\n",
              "        vertical-align: top;\n",
              "    }\n",
              "\n",
              "    .dataframe thead th {\n",
              "        text-align: right;\n",
              "    }\n",
              "</style>\n",
              "<table border=\"1\" class=\"dataframe\">\n",
              "  <thead>\n",
              "    <tr style=\"text-align: right;\">\n",
              "      <th></th>\n",
              "      <th>0</th>\n",
              "      <th>1</th>\n",
              "      <th>2</th>\n",
              "      <th>3</th>\n",
              "      <th>4</th>\n",
              "      <th>5</th>\n",
              "      <th>6</th>\n",
              "      <th>7</th>\n",
              "      <th>8</th>\n",
              "      <th>9</th>\n",
              "      <th>10</th>\n",
              "      <th>11</th>\n",
              "    </tr>\n",
              "  </thead>\n",
              "  <tbody>\n",
              "    <tr>\n",
              "      <th>0</th>\n",
              "      <td>0.714243</td>\n",
              "      <td>-0.877707</td>\n",
              "      <td>-0.331011</td>\n",
              "      <td>-0.819346</td>\n",
              "      <td>-0.712143</td>\n",
              "      <td>-0.736163</td>\n",
              "      <td>-0.974610</td>\n",
              "      <td>-0.205392</td>\n",
              "      <td>-1.150833</td>\n",
              "      <td>0.709327</td>\n",
              "      <td>-0.696040</td>\n",
              "      <td>1.104880</td>\n",
              "    </tr>\n",
              "    <tr>\n",
              "      <th>1</th>\n",
              "      <td>1.124656</td>\n",
              "      <td>1.139332</td>\n",
              "      <td>0.015961</td>\n",
              "      <td>-0.819346</td>\n",
              "      <td>-0.712143</td>\n",
              "      <td>-0.736163</td>\n",
              "      <td>-0.404019</td>\n",
              "      <td>0.382441</td>\n",
              "      <td>-0.649376</td>\n",
              "      <td>0.709327</td>\n",
              "      <td>-0.696040</td>\n",
              "      <td>-0.187342</td>\n",
              "    </tr>\n",
              "    <tr>\n",
              "      <th>2</th>\n",
              "      <td>-1.748231</td>\n",
              "      <td>-0.877707</td>\n",
              "      <td>-0.471783</td>\n",
              "      <td>-0.819346</td>\n",
              "      <td>-0.286212</td>\n",
              "      <td>-0.736163</td>\n",
              "      <td>-0.074832</td>\n",
              "      <td>-0.298699</td>\n",
              "      <td>-0.147919</td>\n",
              "      <td>0.709327</td>\n",
              "      <td>1.436698</td>\n",
              "      <td>1.131524</td>\n",
              "    </tr>\n",
              "    <tr>\n",
              "      <th>3</th>\n",
              "      <td>0.714243</td>\n",
              "      <td>-0.877707</td>\n",
              "      <td>0.015961</td>\n",
              "      <td>1.220485</td>\n",
              "      <td>-0.030653</td>\n",
              "      <td>-0.736163</td>\n",
              "      <td>-2.597503</td>\n",
              "      <td>-0.298699</td>\n",
              "      <td>0.854994</td>\n",
              "      <td>0.709327</td>\n",
              "      <td>-0.696040</td>\n",
              "      <td>1.584467</td>\n",
              "    </tr>\n",
              "    <tr>\n",
              "      <th>4</th>\n",
              "      <td>1.370903</td>\n",
              "      <td>-0.877707</td>\n",
              "      <td>-0.338942</td>\n",
              "      <td>-0.819346</td>\n",
              "      <td>0.991583</td>\n",
              "      <td>-0.736163</td>\n",
              "      <td>2.405045</td>\n",
              "      <td>-0.018779</td>\n",
              "      <td>0.353537</td>\n",
              "      <td>0.709327</td>\n",
              "      <td>1.436698</td>\n",
              "      <td>0.865086</td>\n",
              "    </tr>\n",
              "    <tr>\n",
              "      <th>...</th>\n",
              "      <td>...</td>\n",
              "      <td>...</td>\n",
              "      <td>...</td>\n",
              "      <td>...</td>\n",
              "      <td>...</td>\n",
              "      <td>...</td>\n",
              "      <td>...</td>\n",
              "      <td>...</td>\n",
              "      <td>...</td>\n",
              "      <td>...</td>\n",
              "      <td>...</td>\n",
              "      <td>...</td>\n",
              "    </tr>\n",
              "    <tr>\n",
              "      <th>234</th>\n",
              "      <td>-1.009489</td>\n",
              "      <td>1.139332</td>\n",
              "      <td>-0.492601</td>\n",
              "      <td>-0.819346</td>\n",
              "      <td>0.991583</td>\n",
              "      <td>-0.736163</td>\n",
              "      <td>-1.424499</td>\n",
              "      <td>-0.392006</td>\n",
              "      <td>0.854994</td>\n",
              "      <td>-1.409787</td>\n",
              "      <td>-0.696040</td>\n",
              "      <td>0.265601</td>\n",
              "    </tr>\n",
              "    <tr>\n",
              "      <th>235</th>\n",
              "      <td>-1.255736</td>\n",
              "      <td>-0.877707</td>\n",
              "      <td>-0.394458</td>\n",
              "      <td>1.220485</td>\n",
              "      <td>-1.819565</td>\n",
              "      <td>1.358395</td>\n",
              "      <td>0.100735</td>\n",
              "      <td>0.634370</td>\n",
              "      <td>-3.156659</td>\n",
              "      <td>-1.409787</td>\n",
              "      <td>-0.696040</td>\n",
              "      <td>-0.360527</td>\n",
              "    </tr>\n",
              "    <tr>\n",
              "      <th>236</th>\n",
              "      <td>-0.599076</td>\n",
              "      <td>-0.877707</td>\n",
              "      <td>0.015961</td>\n",
              "      <td>1.220485</td>\n",
              "      <td>-0.030653</td>\n",
              "      <td>-0.736163</td>\n",
              "      <td>0.023924</td>\n",
              "      <td>0.354449</td>\n",
              "      <td>-0.649376</td>\n",
              "      <td>0.709327</td>\n",
              "      <td>-0.696040</td>\n",
              "      <td>1.144845</td>\n",
              "    </tr>\n",
              "    <tr>\n",
              "      <th>237</th>\n",
              "      <td>0.303831</td>\n",
              "      <td>-0.877707</td>\n",
              "      <td>-0.169421</td>\n",
              "      <td>1.220485</td>\n",
              "      <td>-1.138075</td>\n",
              "      <td>-0.736163</td>\n",
              "      <td>0.034897</td>\n",
              "      <td>-0.205392</td>\n",
              "      <td>-0.147919</td>\n",
              "      <td>0.709327</td>\n",
              "      <td>1.436698</td>\n",
              "      <td>0.358855</td>\n",
              "    </tr>\n",
              "    <tr>\n",
              "      <th>238</th>\n",
              "      <td>-0.927406</td>\n",
              "      <td>1.139332</td>\n",
              "      <td>-0.446999</td>\n",
              "      <td>-0.819346</td>\n",
              "      <td>-1.564006</td>\n",
              "      <td>-0.736163</td>\n",
              "      <td>-0.799043</td>\n",
              "      <td>-0.578620</td>\n",
              "      <td>0.604266</td>\n",
              "      <td>0.709327</td>\n",
              "      <td>-0.696040</td>\n",
              "      <td>0.252280</td>\n",
              "    </tr>\n",
              "  </tbody>\n",
              "</table>\n",
              "<p>239 rows × 12 columns</p>\n",
              "</div>"
            ],
            "text/plain": [
              "           0         1         2   ...        9         10        11\n",
              "0    0.714243 -0.877707 -0.331011  ...  0.709327 -0.696040  1.104880\n",
              "1    1.124656  1.139332  0.015961  ...  0.709327 -0.696040 -0.187342\n",
              "2   -1.748231 -0.877707 -0.471783  ...  0.709327  1.436698  1.131524\n",
              "3    0.714243 -0.877707  0.015961  ...  0.709327 -0.696040  1.584467\n",
              "4    1.370903 -0.877707 -0.338942  ...  0.709327  1.436698  0.865086\n",
              "..        ...       ...       ...  ...       ...       ...       ...\n",
              "234 -1.009489  1.139332 -0.492601  ... -1.409787 -0.696040  0.265601\n",
              "235 -1.255736 -0.877707 -0.394458  ... -1.409787 -0.696040 -0.360527\n",
              "236 -0.599076 -0.877707  0.015961  ...  0.709327 -0.696040  1.144845\n",
              "237  0.303831 -0.877707 -0.169421  ...  0.709327  1.436698  0.358855\n",
              "238 -0.927406  1.139332 -0.446999  ...  0.709327 -0.696040  0.252280\n",
              "\n",
              "[239 rows x 12 columns]"
            ]
          },
          "metadata": {
            "tags": []
          },
          "execution_count": 15
        }
      ]
    },
    {
      "cell_type": "markdown",
      "metadata": {
        "id": "-OXiH_jjlfP6"
      },
      "source": [
        "Constructing a classifier with all the features. We will then start eleminating the features one by one from the next cell."
      ]
    },
    {
      "cell_type": "code",
      "metadata": {
        "id": "9DwGTlrS3T9F",
        "colab": {
          "base_uri": "https://localhost:8080/",
          "height": 87
        },
        "outputId": "25e95fd7-f7d5-4243-e1f3-5083a96e223e"
      },
      "source": [
        "from sklearn.ensemble import RandomForestClassifier\n",
        "clf=RandomForestClassifier(n_estimators=50)\n",
        "y_pred=clf.fit(x_train,y_train).predict(x_test)\n",
        "print(feat_order[10:12])"
      ],
      "execution_count": null,
      "outputs": [
        {
          "output_type": "stream",
          "text": [
            "['sex' 'smoking']\n"
          ],
          "name": "stdout"
        },
        {
          "output_type": "stream",
          "text": [
            "/usr/local/lib/python3.6/dist-packages/ipykernel_launcher.py:3: DataConversionWarning: A column-vector y was passed when a 1d array was expected. Please change the shape of y to (n_samples,), for example using ravel().\n",
            "  This is separate from the ipykernel package so we can avoid doing imports until\n"
          ],
          "name": "stderr"
        }
      ]
    },
    {
      "cell_type": "code",
      "metadata": {
        "id": "obtTIW79Uc7y"
      },
      "source": [
        "from sklearn.metrics import accuracy_score\n",
        "curr_acc=0.0\n",
        "acc=accuracy_score(y_test,y_pred) #computing accuracy for the model with all the features"
      ],
      "execution_count": null,
      "outputs": []
    },
    {
      "cell_type": "markdown",
      "metadata": {
        "id": "AXM-ejm-lyoG"
      },
      "source": [
        "Performing recursive feature elemination to find out the optimal number of features:"
      ]
    },
    {
      "cell_type": "code",
      "metadata": {
        "id": "JCetO4sRG_gI",
        "colab": {
          "base_uri": "https://localhost:8080/",
          "height": 302
        },
        "outputId": "cbc02531-a51e-4f6e-f8d0-0ad59765d8d1"
      },
      "source": [
        "i=0\n",
        "x_train,x_test,y_train,y_test = train_test_split(X,y,test_size=0.2,random_state=140)\n",
        "clf=RandomForestClassifier(n_estimators=50,random_state=140)\n",
        "y_pred=clf.fit(x_train,y_train).predict(x_test)\n",
        "curr_acc=0.0\n",
        "acc=accuracy_score(y_test,y_pred)\n",
        "print('initial Accuracy='+str(acc))\n",
        "while(curr_acc<=acc):\n",
        "  curr_acc=acc\n",
        "  i+=1\n",
        "  x_train.drop(columns=feat_order[12-i],inplace=True)\n",
        "  x_test.drop(columns=feat_order[12-i],inplace=True)\n",
        "  clf=RandomForestClassifier(n_estimators=50,random_state=140)\n",
        "  y_pred=clf.fit(x_train,y_train).predict(x_test)\n",
        "  acc=accuracy_score(y_test,y_pred)\n",
        "print(acc,curr_acc,i) #the cariable i corresponds to the number of features which have been removed"
      ],
      "execution_count": null,
      "outputs": [
        {
          "output_type": "stream",
          "text": [
            "initial Accuracy=0.85\n"
          ],
          "name": "stdout"
        },
        {
          "output_type": "stream",
          "text": [
            "/usr/local/lib/python3.6/dist-packages/pandas/core/frame.py:3997: SettingWithCopyWarning: \n",
            "A value is trying to be set on a copy of a slice from a DataFrame\n",
            "\n",
            "See the caveats in the documentation: https://pandas.pydata.org/pandas-docs/stable/user_guide/indexing.html#returning-a-view-versus-a-copy\n",
            "  errors=errors,\n",
            "/usr/local/lib/python3.6/dist-packages/pandas/core/frame.py:3997: SettingWithCopyWarning: \n",
            "A value is trying to be set on a copy of a slice from a DataFrame\n",
            "\n",
            "See the caveats in the documentation: https://pandas.pydata.org/pandas-docs/stable/user_guide/indexing.html#returning-a-view-versus-a-copy\n",
            "  errors=errors,\n",
            "/usr/local/lib/python3.6/dist-packages/pandas/core/frame.py:3997: SettingWithCopyWarning: \n",
            "A value is trying to be set on a copy of a slice from a DataFrame\n",
            "\n",
            "See the caveats in the documentation: https://pandas.pydata.org/pandas-docs/stable/user_guide/indexing.html#returning-a-view-versus-a-copy\n",
            "  errors=errors,\n"
          ],
          "name": "stderr"
        },
        {
          "output_type": "stream",
          "text": [
            "0.8666666666666667 0.8833333333333333 3\n"
          ],
          "name": "stdout"
        }
      ]
    },
    {
      "cell_type": "code",
      "metadata": {
        "id": "UfsbKsFJWia_",
        "colab": {
          "base_uri": "https://localhost:8080/",
          "height": 402
        },
        "outputId": "ea843673-8848-4be5-d9cd-1522b4c2ea17"
      },
      "source": [
        "x_train #features after feature selection"
      ],
      "execution_count": null,
      "outputs": [
        {
          "output_type": "execute_result",
          "data": {
            "text/html": [
              "<div>\n",
              "<style scoped>\n",
              "    .dataframe tbody tr th:only-of-type {\n",
              "        vertical-align: middle;\n",
              "    }\n",
              "\n",
              "    .dataframe tbody tr th {\n",
              "        vertical-align: top;\n",
              "    }\n",
              "\n",
              "    .dataframe thead th {\n",
              "        text-align: right;\n",
              "    }\n",
              "</style>\n",
              "<table border=\"1\" class=\"dataframe\">\n",
              "  <thead>\n",
              "    <tr style=\"text-align: right;\">\n",
              "      <th></th>\n",
              "      <th>age</th>\n",
              "      <th>anaemia</th>\n",
              "      <th>creatinine_phosphokinase</th>\n",
              "      <th>ejection_fraction</th>\n",
              "      <th>high_blood_pressure</th>\n",
              "      <th>platelets</th>\n",
              "      <th>serum_creatinine</th>\n",
              "      <th>serum_sodium</th>\n",
              "      <th>time</th>\n",
              "    </tr>\n",
              "  </thead>\n",
              "  <tbody>\n",
              "    <tr>\n",
              "      <th>237</th>\n",
              "      <td>70.0</td>\n",
              "      <td>0</td>\n",
              "      <td>232</td>\n",
              "      <td>30</td>\n",
              "      <td>0</td>\n",
              "      <td>173000.0</td>\n",
              "      <td>1.20</td>\n",
              "      <td>132</td>\n",
              "      <td>210</td>\n",
              "    </tr>\n",
              "    <tr>\n",
              "      <th>148</th>\n",
              "      <td>75.0</td>\n",
              "      <td>1</td>\n",
              "      <td>582</td>\n",
              "      <td>30</td>\n",
              "      <td>0</td>\n",
              "      <td>225000.0</td>\n",
              "      <td>1.83</td>\n",
              "      <td>134</td>\n",
              "      <td>113</td>\n",
              "    </tr>\n",
              "    <tr>\n",
              "      <th>242</th>\n",
              "      <td>40.0</td>\n",
              "      <td>0</td>\n",
              "      <td>90</td>\n",
              "      <td>35</td>\n",
              "      <td>0</td>\n",
              "      <td>255000.0</td>\n",
              "      <td>1.10</td>\n",
              "      <td>136</td>\n",
              "      <td>212</td>\n",
              "    </tr>\n",
              "    <tr>\n",
              "      <th>277</th>\n",
              "      <td>70.0</td>\n",
              "      <td>0</td>\n",
              "      <td>582</td>\n",
              "      <td>38</td>\n",
              "      <td>0</td>\n",
              "      <td>25100.0</td>\n",
              "      <td>1.10</td>\n",
              "      <td>140</td>\n",
              "      <td>246</td>\n",
              "    </tr>\n",
              "    <tr>\n",
              "      <th>212</th>\n",
              "      <td>78.0</td>\n",
              "      <td>0</td>\n",
              "      <td>224</td>\n",
              "      <td>50</td>\n",
              "      <td>0</td>\n",
              "      <td>481000.0</td>\n",
              "      <td>1.40</td>\n",
              "      <td>138</td>\n",
              "      <td>192</td>\n",
              "    </tr>\n",
              "    <tr>\n",
              "      <th>...</th>\n",
              "      <td>...</td>\n",
              "      <td>...</td>\n",
              "      <td>...</td>\n",
              "      <td>...</td>\n",
              "      <td>...</td>\n",
              "      <td>...</td>\n",
              "      <td>...</td>\n",
              "      <td>...</td>\n",
              "      <td>...</td>\n",
              "    </tr>\n",
              "    <tr>\n",
              "      <th>177</th>\n",
              "      <td>49.0</td>\n",
              "      <td>1</td>\n",
              "      <td>69</td>\n",
              "      <td>50</td>\n",
              "      <td>0</td>\n",
              "      <td>132000.0</td>\n",
              "      <td>1.00</td>\n",
              "      <td>140</td>\n",
              "      <td>147</td>\n",
              "    </tr>\n",
              "    <tr>\n",
              "      <th>126</th>\n",
              "      <td>46.0</td>\n",
              "      <td>0</td>\n",
              "      <td>168</td>\n",
              "      <td>17</td>\n",
              "      <td>1</td>\n",
              "      <td>271000.0</td>\n",
              "      <td>2.10</td>\n",
              "      <td>124</td>\n",
              "      <td>100</td>\n",
              "    </tr>\n",
              "    <tr>\n",
              "      <th>244</th>\n",
              "      <td>54.0</td>\n",
              "      <td>0</td>\n",
              "      <td>582</td>\n",
              "      <td>38</td>\n",
              "      <td>0</td>\n",
              "      <td>264000.0</td>\n",
              "      <td>1.80</td>\n",
              "      <td>134</td>\n",
              "      <td>213</td>\n",
              "    </tr>\n",
              "    <tr>\n",
              "      <th>182</th>\n",
              "      <td>65.0</td>\n",
              "      <td>0</td>\n",
              "      <td>395</td>\n",
              "      <td>25</td>\n",
              "      <td>0</td>\n",
              "      <td>265000.0</td>\n",
              "      <td>1.20</td>\n",
              "      <td>136</td>\n",
              "      <td>154</td>\n",
              "    </tr>\n",
              "    <tr>\n",
              "      <th>173</th>\n",
              "      <td>50.0</td>\n",
              "      <td>1</td>\n",
              "      <td>115</td>\n",
              "      <td>20</td>\n",
              "      <td>0</td>\n",
              "      <td>189000.0</td>\n",
              "      <td>0.80</td>\n",
              "      <td>139</td>\n",
              "      <td>146</td>\n",
              "    </tr>\n",
              "  </tbody>\n",
              "</table>\n",
              "<p>239 rows × 9 columns</p>\n",
              "</div>"
            ],
            "text/plain": [
              "      age  anaemia  ...  serum_sodium  time\n",
              "237  70.0        0  ...           132   210\n",
              "148  75.0        1  ...           134   113\n",
              "242  40.0        0  ...           136   212\n",
              "277  70.0        0  ...           140   246\n",
              "212  78.0        0  ...           138   192\n",
              "..    ...      ...  ...           ...   ...\n",
              "177  49.0        1  ...           140   147\n",
              "126  46.0        0  ...           124   100\n",
              "244  54.0        0  ...           134   213\n",
              "182  65.0        0  ...           136   154\n",
              "173  50.0        1  ...           139   146\n",
              "\n",
              "[239 rows x 9 columns]"
            ]
          },
          "metadata": {
            "tags": []
          },
          "execution_count": 19
        }
      ]
    },
    {
      "cell_type": "markdown",
      "metadata": {
        "id": "EwIGS4oJPEAD"
      },
      "source": [
        "## Saving the test and train datasets as four seperate files\n"
      ]
    },
    {
      "cell_type": "code",
      "metadata": {
        "id": "uqBdL-XR14k6"
      },
      "source": [
        "sc=StandardScaler()\n",
        "x_train=pd.DataFrame(sc.fit_transform(x_train))\n",
        "x_test=pd.DataFrame(sc.transform(x_test))"
      ],
      "execution_count": null,
      "outputs": []
    },
    {
      "cell_type": "code",
      "metadata": {
        "id": "zBh0_is12M5K"
      },
      "source": [
        "pd.DataFrame(x_train).to_csv(\"Pre-processed_x_train.csv\")\n",
        "pd.DataFrame(x_test).to_csv(\"Pre-processed_x_test.csv\")\n",
        "pd.DataFrame(y_train).to_csv(\"Pre-processed_y_train.csv\")\n",
        "pd.DataFrame(y_test).to_csv(\"Pre-processed_y_test.csv\")"
      ],
      "execution_count": null,
      "outputs": []
    }
  ]
}